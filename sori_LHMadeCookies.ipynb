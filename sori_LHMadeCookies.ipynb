{
  "nbformat": 4,
  "nbformat_minor": 0,
  "metadata": {
    "colab": {
      "provenance": [],
      "authorship_tag": "ABX9TyPDrJ/0ZBgsBrjj67yMVnSF",
      "include_colab_link": true
    },
    "kernelspec": {
      "name": "python3",
      "display_name": "Python 3"
    },
    "language_info": {
      "name": "python"
    }
  },
  "cells": [
    {
      "cell_type": "markdown",
      "metadata": {
        "id": "view-in-github",
        "colab_type": "text"
      },
      "source": [
        "<a href=\"https://colab.research.google.com/github/LHMade/LH-Made-Cookies/blob/main/sori_LHMadeCookies.ipynb\" target=\"_parent\"><img src=\"https://colab.research.google.com/assets/colab-badge.svg\" alt=\"Open In Colab\"/></a>"
      ]
    },
    {
      "cell_type": "code",
      "source": [
        "from google.colab import files\n",
        "uploaded = files.upload()"
      ],
      "metadata": {
        "colab": {
          "base_uri": "https://localhost:8080/",
          "height": 76
        },
        "id": "2m2PhWFC6Ks3",
        "outputId": "12e98fde-5a98-41bb-b5cf-aedd8281400b"
      },
      "execution_count": 10,
      "outputs": [
        {
          "output_type": "display_data",
          "data": {
            "text/plain": [
              "<IPython.core.display.HTML object>"
            ],
            "text/html": [
              "\n",
              "     <input type=\"file\" id=\"files-23e05ffa-6819-4c0e-a9f0-80e5bd67c462\" name=\"files[]\" multiple disabled\n",
              "        style=\"border:none\" />\n",
              "     <output id=\"result-23e05ffa-6819-4c0e-a9f0-80e5bd67c462\">\n",
              "      Upload widget is only available when the cell has been executed in the\n",
              "      current browser session. Please rerun this cell to enable.\n",
              "      </output>\n",
              "      <script>// Copyright 2017 Google LLC\n",
              "//\n",
              "// Licensed under the Apache License, Version 2.0 (the \"License\");\n",
              "// you may not use this file except in compliance with the License.\n",
              "// You may obtain a copy of the License at\n",
              "//\n",
              "//      http://www.apache.org/licenses/LICENSE-2.0\n",
              "//\n",
              "// Unless required by applicable law or agreed to in writing, software\n",
              "// distributed under the License is distributed on an \"AS IS\" BASIS,\n",
              "// WITHOUT WARRANTIES OR CONDITIONS OF ANY KIND, either express or implied.\n",
              "// See the License for the specific language governing permissions and\n",
              "// limitations under the License.\n",
              "\n",
              "/**\n",
              " * @fileoverview Helpers for google.colab Python module.\n",
              " */\n",
              "(function(scope) {\n",
              "function span(text, styleAttributes = {}) {\n",
              "  const element = document.createElement('span');\n",
              "  element.textContent = text;\n",
              "  for (const key of Object.keys(styleAttributes)) {\n",
              "    element.style[key] = styleAttributes[key];\n",
              "  }\n",
              "  return element;\n",
              "}\n",
              "\n",
              "// Max number of bytes which will be uploaded at a time.\n",
              "const MAX_PAYLOAD_SIZE = 100 * 1024;\n",
              "\n",
              "function _uploadFiles(inputId, outputId) {\n",
              "  const steps = uploadFilesStep(inputId, outputId);\n",
              "  const outputElement = document.getElementById(outputId);\n",
              "  // Cache steps on the outputElement to make it available for the next call\n",
              "  // to uploadFilesContinue from Python.\n",
              "  outputElement.steps = steps;\n",
              "\n",
              "  return _uploadFilesContinue(outputId);\n",
              "}\n",
              "\n",
              "// This is roughly an async generator (not supported in the browser yet),\n",
              "// where there are multiple asynchronous steps and the Python side is going\n",
              "// to poll for completion of each step.\n",
              "// This uses a Promise to block the python side on completion of each step,\n",
              "// then passes the result of the previous step as the input to the next step.\n",
              "function _uploadFilesContinue(outputId) {\n",
              "  const outputElement = document.getElementById(outputId);\n",
              "  const steps = outputElement.steps;\n",
              "\n",
              "  const next = steps.next(outputElement.lastPromiseValue);\n",
              "  return Promise.resolve(next.value.promise).then((value) => {\n",
              "    // Cache the last promise value to make it available to the next\n",
              "    // step of the generator.\n",
              "    outputElement.lastPromiseValue = value;\n",
              "    return next.value.response;\n",
              "  });\n",
              "}\n",
              "\n",
              "/**\n",
              " * Generator function which is called between each async step of the upload\n",
              " * process.\n",
              " * @param {string} inputId Element ID of the input file picker element.\n",
              " * @param {string} outputId Element ID of the output display.\n",
              " * @return {!Iterable<!Object>} Iterable of next steps.\n",
              " */\n",
              "function* uploadFilesStep(inputId, outputId) {\n",
              "  const inputElement = document.getElementById(inputId);\n",
              "  inputElement.disabled = false;\n",
              "\n",
              "  const outputElement = document.getElementById(outputId);\n",
              "  outputElement.innerHTML = '';\n",
              "\n",
              "  const pickedPromise = new Promise((resolve) => {\n",
              "    inputElement.addEventListener('change', (e) => {\n",
              "      resolve(e.target.files);\n",
              "    });\n",
              "  });\n",
              "\n",
              "  const cancel = document.createElement('button');\n",
              "  inputElement.parentElement.appendChild(cancel);\n",
              "  cancel.textContent = 'Cancel upload';\n",
              "  const cancelPromise = new Promise((resolve) => {\n",
              "    cancel.onclick = () => {\n",
              "      resolve(null);\n",
              "    };\n",
              "  });\n",
              "\n",
              "  // Wait for the user to pick the files.\n",
              "  const files = yield {\n",
              "    promise: Promise.race([pickedPromise, cancelPromise]),\n",
              "    response: {\n",
              "      action: 'starting',\n",
              "    }\n",
              "  };\n",
              "\n",
              "  cancel.remove();\n",
              "\n",
              "  // Disable the input element since further picks are not allowed.\n",
              "  inputElement.disabled = true;\n",
              "\n",
              "  if (!files) {\n",
              "    return {\n",
              "      response: {\n",
              "        action: 'complete',\n",
              "      }\n",
              "    };\n",
              "  }\n",
              "\n",
              "  for (const file of files) {\n",
              "    const li = document.createElement('li');\n",
              "    li.append(span(file.name, {fontWeight: 'bold'}));\n",
              "    li.append(span(\n",
              "        `(${file.type || 'n/a'}) - ${file.size} bytes, ` +\n",
              "        `last modified: ${\n",
              "            file.lastModifiedDate ? file.lastModifiedDate.toLocaleDateString() :\n",
              "                                    'n/a'} - `));\n",
              "    const percent = span('0% done');\n",
              "    li.appendChild(percent);\n",
              "\n",
              "    outputElement.appendChild(li);\n",
              "\n",
              "    const fileDataPromise = new Promise((resolve) => {\n",
              "      const reader = new FileReader();\n",
              "      reader.onload = (e) => {\n",
              "        resolve(e.target.result);\n",
              "      };\n",
              "      reader.readAsArrayBuffer(file);\n",
              "    });\n",
              "    // Wait for the data to be ready.\n",
              "    let fileData = yield {\n",
              "      promise: fileDataPromise,\n",
              "      response: {\n",
              "        action: 'continue',\n",
              "      }\n",
              "    };\n",
              "\n",
              "    // Use a chunked sending to avoid message size limits. See b/62115660.\n",
              "    let position = 0;\n",
              "    do {\n",
              "      const length = Math.min(fileData.byteLength - position, MAX_PAYLOAD_SIZE);\n",
              "      const chunk = new Uint8Array(fileData, position, length);\n",
              "      position += length;\n",
              "\n",
              "      const base64 = btoa(String.fromCharCode.apply(null, chunk));\n",
              "      yield {\n",
              "        response: {\n",
              "          action: 'append',\n",
              "          file: file.name,\n",
              "          data: base64,\n",
              "        },\n",
              "      };\n",
              "\n",
              "      let percentDone = fileData.byteLength === 0 ?\n",
              "          100 :\n",
              "          Math.round((position / fileData.byteLength) * 100);\n",
              "      percent.textContent = `${percentDone}% done`;\n",
              "\n",
              "    } while (position < fileData.byteLength);\n",
              "  }\n",
              "\n",
              "  // All done.\n",
              "  yield {\n",
              "    response: {\n",
              "      action: 'complete',\n",
              "    }\n",
              "  };\n",
              "}\n",
              "\n",
              "scope.google = scope.google || {};\n",
              "scope.google.colab = scope.google.colab || {};\n",
              "scope.google.colab._files = {\n",
              "  _uploadFiles,\n",
              "  _uploadFilesContinue,\n",
              "};\n",
              "})(self);\n",
              "</script> "
            ]
          },
          "metadata": {}
        },
        {
          "output_type": "stream",
          "name": "stdout",
          "text": [
            "Saving 10.성남시_지하철역.csv to 10.성남시_지하철역.csv\n"
          ]
        }
      ]
    },
    {
      "cell_type": "code",
      "source": [
        "import pandas as pd\n",
        "import geopandas as gpd\n",
        "import numpy as np\n",
        "import seaborn as sns\n",
        "import matplotlib.pyplot as plt\n",
        "from shapely.geometry import Point\n",
        "from sklearn.model_selection import train_test_split\n",
        "from sklearn.ensemble import RandomForestRegressor\n",
        "from sklearn.metrics import mean_absolute_error, r2_score\n",
        "from scipy.spatial import cKDTree\n",
        "from xgboost import XGBRegressor"
      ],
      "metadata": {
        "id": "Rr6WS3TU6RLX"
      },
      "execution_count": 19,
      "outputs": []
    },
    {
      "cell_type": "markdown",
      "source": [
        "# **성남시 데이터 전처리**"
      ],
      "metadata": {
        "id": "znLYt_Dv5yvZ"
      }
    },
    {
      "cell_type": "code",
      "execution_count": 28,
      "metadata": {
        "colab": {
          "base_uri": "https://localhost:8080/"
        },
        "id": "YulcLb9k5j-E",
        "outputId": "3cd6519f-4949-4df6-c7b5-80fd2e0041ed"
      },
      "outputs": [
        {
          "output_type": "stream",
          "name": "stderr",
          "text": [
            "<ipython-input-28-cc99fbd2fb22>:17: DtypeWarning: Columns (14,15,34,58,59,60,61,67) have mixed types. Specify dtype option on import or set low_memory=False.\n",
            "  dataframes[name] = pd.read_csv(path, encoding=\"utf-8\")\n",
            "<ipython-input-28-cc99fbd2fb22>:17: DtypeWarning: Columns (10,11,25) have mixed types. Specify dtype option on import or set low_memory=False.\n",
            "  dataframes[name] = pd.read_csv(path, encoding=\"utf-8\")\n"
          ]
        }
      ],
      "source": [
        "# 파일 경로 설정\n",
        "file_paths = {\n",
        "    \"거주인구\": \"/content/1.성남시_거주인구.csv\",\n",
        "    \"상권정보\": \"/content/2.성남시_상권정보.csv\",\n",
        "    \"상가개폐업\": \"/content/3.성남시_상가개폐업.csv\",\n",
        "    \"표제부\": \"/content/4.성남시_표제부.csv\",\n",
        "    \"층별개요\": \"/content/5.성남시_층별개요.csv\",\n",
        "    \"지식산업센터\": \"/content/7.성남시_지식산업센터.csv\",\n",
        "    \"개별공시지가\": \"/content/8.성남시_개별공시지가.csv\",\n",
        "    \"버스정류장\": \"/content/9.성남시_버스정류장.csv\",\n",
        "    \"지하철역\": \"/content/10.성남시_지하철역.csv\"\n",
        "}\n",
        "\n",
        "dataframes = {}\n",
        "for name, path in file_paths.items():\n",
        "    try:\n",
        "        dataframes[name] = pd.read_csv(path, encoding=\"utf-8\")\n",
        "    except UnicodeDecodeError:\n",
        "        dataframes[name] = pd.read_csv(path, encoding=\"cp949\")"
      ]
    },
    {
      "cell_type": "code",
      "source": [
        "# 공간 매핑 및 거리 계산\n",
        "def convert_to_gdf(df, lon_col, lat_col):\n",
        "    df = df.dropna(subset=[lon_col, lat_col])\n",
        "    df[\"geometry\"] = [Point(xy) for xy in zip(df[lon_col], df[lat_col])]\n",
        "    return gpd.GeoDataFrame(df, geometry=\"geometry\", crs=\"EPSG:4326\")\n",
        "\n",
        "gdf_industrial = convert_to_gdf(dataframes[\"지식산업센터\"], \"lon\", \"lat\")\n",
        "gdf_bus = convert_to_gdf(dataframes[\"버스정류장\"], \"lon\", \"lat\")\n",
        "gdf_subway = convert_to_gdf(dataframes[\"지하철역\"], \"lon\", \"lat\")\n",
        "\n",
        "def calculate_nearest_distance(source_gdf, target_gdf):\n",
        "    distances = []\n",
        "    for src_point in source_gdf.geometry:\n",
        "        min_distance = target_gdf.distance(src_point).min() * 111\n",
        "        distances.append(min_distance)\n",
        "    return distances\n",
        "\n",
        "gdf_industrial[\"bus_distance_km\"] = calculate_nearest_distance(gdf_industrial, gdf_bus)\n",
        "gdf_industrial[\"subway_distance_km\"] = calculate_nearest_distance(gdf_industrial, gdf_subway)"
      ],
      "metadata": {
        "colab": {
          "base_uri": "https://localhost:8080/"
        },
        "id": "irWW1_Cn_4_g",
        "outputId": "1367b477-545e-4a94-bc38-82e87a6290ce"
      },
      "execution_count": 29,
      "outputs": [
        {
          "output_type": "stream",
          "name": "stderr",
          "text": [
            "<ipython-input-29-b3659c130af6>:14: UserWarning: Geometry is in a geographic CRS. Results from 'distance' are likely incorrect. Use 'GeoSeries.to_crs()' to re-project geometries to a projected CRS before this operation.\n",
            "\n",
            "  min_distance = target_gdf.distance(src_point).min() * 111\n",
            "<ipython-input-29-b3659c130af6>:14: UserWarning: Geometry is in a geographic CRS. Results from 'distance' are likely incorrect. Use 'GeoSeries.to_crs()' to re-project geometries to a projected CRS before this operation.\n",
            "\n",
            "  min_distance = target_gdf.distance(src_point).min() * 111\n"
          ]
        }
      ]
    },
    {
      "cell_type": "code",
      "source": [
        "# 상권 정보 및 추가 변수 결합\n",
        "gdf_commercial = convert_to_gdf(dataframes[\"상권정보\"], \"lon\", \"lat\")\n",
        "\n",
        "def count_nearby_stores_fast(center_gdf, store_gdf, radius=1000):\n",
        "    center_coords = np.array(list(zip(center_gdf.geometry.x, center_gdf.geometry.y)))\n",
        "    store_coords = np.array(list(zip(store_gdf.geometry.x, store_gdf.geometry.y)))\n",
        "    tree = cKDTree(store_coords)\n",
        "    counts = tree.query_ball_point(center_coords, radius)\n",
        "    return [len(c) for c in counts]\n",
        "\n",
        "gdf_industrial[\"nearby_store_count\"] = count_nearby_stores_fast(gdf_industrial, gdf_commercial)"
      ],
      "metadata": {
        "id": "ddRJIjEpFh8e"
      },
      "execution_count": 30,
      "outputs": []
    },
    {
      "cell_type": "code",
      "source": [
        "# 개별공시지가, 층별 개요, 상가 개폐업 데이터 결합\n",
        "df_land_value = dataframes[\"개별공시지가\"].copy()\n",
        "df_land_value_avg = df_land_value.groupby(\"bjd_nm\")[\"land_value\"].mean().reset_index()\n",
        "gdf_industrial = gdf_industrial.merge(df_land_value_avg, left_on=\"addr\", right_on=\"bjd_nm\", how=\"left\")\n",
        "\n",
        "df_population = dataframes[\"거주인구\"].copy()\n",
        "df_population[\"total_population\"] = df_population.iloc[:, 2:].sum(axis=1)\n",
        "gdf_industrial = gdf_industrial.merge(df_population[[\"gid\", \"total_population\"]], left_on=\"addr\", right_on=\"gid\", how=\"left\")\n",
        "\n",
        "# 층별 개요 데이터 (최대 층수 활용)\n",
        "df_building_floors = dataframes[\"층별개요\"].copy()\n",
        "df_floors_grouped = df_building_floors.groupby(\"plat_plc\")[\"flr_num\"].max().reset_index()\n",
        "gdf_industrial = gdf_industrial.merge(df_floors_grouped, left_on=\"addr\", right_on=\"plat_plc\", how=\"left\")\n",
        "\n",
        "# 상가 개폐업 데이터 (폐업 및 개업 수 활용)\n",
        "df_shop_open_close = dataframes[\"상가개폐업\"].copy()\n",
        "df_shop_grouped = df_shop_open_close.groupby(\"addr\")[\"biz_stts_nm\"].count().reset_index()\n",
        "df_shop_grouped.rename(columns={\"biz_stts_nm\": \"num_business_changes\"}, inplace=True)\n",
        "gdf_industrial = gdf_industrial.merge(df_shop_grouped, left_on=\"addr\", right_on=\"addr\", how=\"left\")"
      ],
      "metadata": {
        "id": "EdlIrBCcFzhB"
      },
      "execution_count": 31,
      "outputs": []
    },
    {
      "cell_type": "markdown",
      "source": [
        "**상관관계 분석**"
      ],
      "metadata": {
        "id": "SfGLtFAFWYTw"
      }
    },
    {
      "cell_type": "code",
      "source": [
        "# 공실률 계산\n",
        "gdf_industrial[\"vacancy_rate\"] = 1 - (gdf_industrial[\"cpn_in_2406\"] / gdf_industrial[\"tot_cpn\"])\n",
        "gdf_industrial[\"vacancy_rate\"] = gdf_industrial[\"vacancy_rate\"].fillna(0)\n",
        "\n",
        "# 공실률 영향 요인 분석 (상관관계 분석)\n",
        "correlation_data = gdf_industrial[[\"vacancy_rate\", \"bus_distance_km\", \"subway_distance_km\", \"nearby_store_count\"]]\n",
        "plt.figure(figsize=(8, 6))\n",
        "sns.heatmap(correlation_data.corr(), annot=True, cmap=\"coolwarm\", fmt=\".2f\")\n",
        "plt.title(\"공실률 영향 요인 상관관계 분석\")\n",
        "plt.show()"
      ],
      "metadata": {
        "colab": {
          "base_uri": "https://localhost:8080/",
          "height": 736
        },
        "id": "3Hp7M_LMO5El",
        "outputId": "8f4299c5-759a-4e88-ba60-aca7d110619f"
      },
      "execution_count": 21,
      "outputs": [
        {
          "output_type": "stream",
          "name": "stderr",
          "text": [
            "/usr/local/lib/python3.11/dist-packages/seaborn/utils.py:61: UserWarning: Glyph 8722 (\\N{MINUS SIGN}) missing from font(s) NanumBarunGothic.\n",
            "  fig.canvas.draw()\n",
            "/usr/local/lib/python3.11/dist-packages/IPython/core/pylabtools.py:151: UserWarning: Glyph 8722 (\\N{MINUS SIGN}) missing from font(s) NanumBarunGothic.\n",
            "  fig.canvas.print_figure(bytes_io, **kw)\n"
          ]
        },
        {
          "output_type": "display_data",
          "data": {
            "text/plain": [
              "<Figure size 800x600 with 2 Axes>"
            ],
            "image/png": "[encoded data removed]"
          },
          "metadata": {}
        }
      ]
    },
    {
      "cell_type": "markdown",
      "source": [
        "**랜덤포레스트 공실률 예측 성분 분석**"
      ],
      "metadata": {
        "id": "_VtVZRoOWhEj"
      }
    },
    {
      "cell_type": "code",
      "source": [
        "# 랜덤 포레스트 기반 공실률 예측\n",
        "features = [\"bus_distance_km\", \"subway_distance_km\", \"nearby_store_count\", \"total_population\"]\n",
        "X = gdf_industrial[features].fillna(0)\n",
        "y = gdf_industrial[\"vacancy_rate\"]\n",
        "\n",
        "X_train, X_test, y_train, y_test = train_test_split(X, y, test_size=0.2, random_state=42)\n",
        "rf_model = RandomForestRegressor(n_estimators=100, random_state=42)\n",
        "rf_model.fit(X_train, y_train)\n",
        "\n",
        "y_pred_rf = rf_model.predict(X_test)\n",
        "mae_rf = mean_absolute_error(y_test, y_pred_rf)\n",
        "r2_rf = r2_score(y_test, y_pred_rf)\n",
        "\n",
        "print(f\"✅ 평균 절대 오차 (MAE): {mae_rf:.4f}\")\n",
        "print(f\"✅ 결정계수 (R² 점수): {r2_rf:.4f}\")"
      ],
      "metadata": {
        "colab": {
          "base_uri": "https://localhost:8080/"
        },
        "id": "LinDIEs2O-BY",
        "outputId": "d8671cc7-273f-4990-a836-a1125fed66c8"
      },
      "execution_count": 18,
      "outputs": [
        {
          "output_type": "stream",
          "name": "stdout",
          "text": [
            "✅ 평균 절대 오차 (MAE): 0.2561\n",
            "✅ 결정계수 (R² 점수): -0.8951\n"
          ]
        }
      ]
    },
    {
      "cell_type": "markdown",
      "source": [
        "**XGBoost 공실률 예측 성분 분석**"
      ],
      "metadata": {
        "id": "qwDEzgACWqCc"
      }
    },
    {
      "cell_type": "code",
      "source": [
        "# 공실률 계산 및 모델 개선\n",
        "gdf_industrial[\"vacancy_rate\"] = 1 - (gdf_industrial[\"cpn_in_2406\"] / gdf_industrial[\"tot_cpn\"])\n",
        "gdf_industrial[\"vacancy_rate\"] = gdf_industrial[\"vacancy_rate\"].fillna(0)\n",
        "\n",
        "features = [\"bus_distance_km\", \"subway_distance_km\", \"nearby_store_count\", \"total_population\", \"flr_num\", \"num_business_changes\"]\n",
        "X = gdf_industrial[features].fillna(0)\n",
        "y = gdf_industrial[\"vacancy_rate\"]\n",
        "\n",
        "X_train, X_test, y_train, y_test = train_test_split(X, y, test_size=0.2, random_state=42)\n",
        "xgb_model = XGBRegressor(n_estimators=100, learning_rate=0.1, random_state=42)\n",
        "xgb_model.fit(X_train, y_train)\n",
        "\n",
        "y_pred_xgb = xgb_model.predict(X_test)\n",
        "mae_xgb = mean_absolute_error(y_test, y_pred_xgb)\n",
        "r2_xgb = r2_score(y_test, y_pred_xgb)\n",
        "\n",
        "print(f\"✅ 평균 절대 오차 (MAE): {mae_xgb:.4f}\")\n",
        "print(f\"✅ 결정계수 (R² 점수): {r2_xgb:.4f}\")"
      ],
      "metadata": {
        "colab": {
          "base_uri": "https://localhost:8080/"
        },
        "id": "XFHv6F7JTXJA",
        "outputId": "ce6ea10a-2f80-455b-ebe9-681f76c360f3"
      },
      "execution_count": 32,
      "outputs": [
        {
          "output_type": "stream",
          "name": "stdout",
          "text": [
            "✅ 평균 절대 오차 (MAE): 0.2821\n",
            "✅ 결정계수 (R² 점수): -1.2416\n"
          ]
        }
      ]
    }
  ]
}